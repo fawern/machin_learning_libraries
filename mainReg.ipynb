{
 "cells": [
  {
   "cell_type": "code",
   "execution_count": 1,
   "metadata": {},
   "outputs": [],
   "source": [
    "import numpy as np\n",
    "import pandas as pd\n",
    "from sklearn.model_selection import train_test_split\n",
    "import regression\n",
    "\n",
    "from sklearn.linear_model import LinearRegression\n",
    "from sklearn.svm import SVR\n",
    "\n",
    "\n",
    "data ={\n",
    "    'house_size': [1000, 1500, 2000, 2500, 3000, 3500, 4000, 4500, 5000, 5500, 6000, 6500, 7000],\n",
    "    'house_price':  [150, 225, 280, 330, 400, 460, 510, 575, 620, 680, 725, 770, 820]\n",
    "}\n",
    "\n",
    "data = pd.DataFrame(data)\n",
    "\n",
    "y = data[\"house_price\"]\n",
    "x = data.drop(columns=\"house_price\")\n",
    "\n",
    "\n",
    "X_train, X_test, y_train, y_test = train_test_split(\n",
    "    x, y, test_size=0.2, random_state=42\n",
    ")"
   ]
  },
  {
   "cell_type": "code",
   "execution_count": 2,
   "metadata": {},
   "outputs": [
    {
     "name": "stdout",
     "output_type": "stream",
     "text": [
      "Logistic Regression accuracy 0.9961189656168845\n",
      "SVC accuracy -0.012149930980459134\n"
     ]
    }
   ],
   "source": [
    "linear_model = regression.Regression(\n",
    "    model=LinearRegression(), train_data=X_train, test_data=X_test,train_target=y_train, test_target=y_test\n",
    ")\n",
    "\n",
    "svr_model = regression.Regression(\n",
    "    model=SVR(), train_data=X_train, test_data=X_test, train_target=y_train, test_target=y_test\n",
    ")\n",
    "\n",
    "print('Logistic Regression accuracy', linear_model.fit_predict())\n",
    "print('SVC accuracy', svr_model.fit_predict())"
   ]
  },
  {
   "cell_type": "code",
   "execution_count": 3,
   "metadata": {},
   "outputs": [
    {
     "name": "stdout",
     "output_type": "stream",
     "text": [
      "Regression Models and Evaluation Results:\n",
      "\n",
      "Model with the Highest R-squared (r2_score):\n",
      "['LinearRegression', 0.9961189656168845]\n",
      "\n",
      "Model with the Lowest Mean Squared Error (MSE):\n",
      "[None, 290.3876170655555]\n",
      "\n",
      "Model with the Lowest Mean Absolute Error (MAE):\n",
      "[None, 15.268817204301058]\n"
     ]
    }
   ],
   "source": [
    "(\n",
    "    models_output_list,\n",
    "    highest_r2_output,\n",
    "    highest_mse_output,\n",
    "    highest_mae_output,\n",
    ") = regression.Regression.regression_models(X_train, X_test, y_train, y_test)\n",
    "\n",
    "\n",
    "print(\"Regression Models and Evaluation Results:\")\n",
    "\n",
    "print(\"\\nModel with the Highest R-squared (r2_score):\")\n",
    "print(highest_r2_output)\n",
    "\n",
    "print(\"\\nModel with the Lowest Mean Squared Error (MSE):\")\n",
    "print(highest_mse_output)\n",
    "\n",
    "print(\"\\nModel with the Lowest Mean Absolute Error (MAE):\")\n",
    "print(highest_mae_output)"
   ]
  },
  {
   "cell_type": "code",
   "execution_count": 4,
   "metadata": {},
   "outputs": [
    {
     "name": "stdout",
     "output_type": "stream",
     "text": [
      "LinearRegression: ['r2_score:', 0.9961189656168845, 'mean_squared_error:', 290.3876170655555, 'mean_absolute_error:', 15.268817204301058]\n",
      "Ridge: ['r2_score:', 0.9961189633470258, 'mean_squared_error:', 290.3877869014241, 'mean_absolute_error:', 15.268819697652825]\n",
      "Lasso: ['r2_score:', 0.9961189036198634, 'mean_squared_error:', 290.3922558204404, 'mean_absolute_error:', 15.268885304659458]\n",
      "ElasticNet: ['r2_score:', 0.9961188509376465, 'mean_squared_error:', 290.3961976209814, 'mean_absolute_error:', 15.268943171635044]\n",
      "KNeighborsRegressor: ['r2_score:', 0.7727012177012177, 'mean_squared_error:', 17007.0, 'mean_absolute_error:', 113.0]\n",
      "DecisionTreeRegressor: ['r2_score:', 0.9498811998811999, 'mean_squared_error:', 3750.0, 'mean_absolute_error:', 60.0]\n",
      "SVR: ['r2_score:', -0.012149930980459134, 'mean_squared_error:', 75731.3070580268, 'mean_absolute_error:', 268.91699688148117]\n",
      "RandomForestRegressor: ['r2_score:', 0.9373069386694386, 'mean_squared_error:', 4690.834166666669, 'mean_absolute_error:', 60.950000000000024]\n",
      "GradientBoostingRegressor: ['r2_score:', 0.9498700590707568, 'mean_squared_error:', 3750.8335801947032, 'mean_absolute_error:', 60.00677729369597]\n",
      "XGBRegressor: ['r2_score:', 0.9547824973977158, 'mean_squared_error:', 3383.2740280420207, 'mean_absolute_error:', 56.66612752278646]\n",
      "XGBRFRegressor: ['r2_score:', 0.9620528586807348, 'mean_squared_error:', 2839.289440488132, 'mean_absolute_error:', 44.51134236653646]\n",
      "LGBMRegressor: ['r2_score:', -0.020154811404811346, 'mean_squared_error:', 76330.25, 'mean_absolute_error:', 268.5]\n",
      "AdaBoostRegressor: ['r2_score:', 0.9498811998811999, 'mean_squared_error:', 3750.0, 'mean_absolute_error:', 60.0]\n",
      "BayesianRidge: ['r2_score:', 0.9961027726720326, 'mean_squared_error:', 291.59920918368846, 'mean_absolute_error:', 15.286536619644949]\n",
      "MLPRegressor: ['r2_score:', 0.617804912213864, 'mean_squared_error:', 28596.685790575997, 'mean_absolute_error:', 138.03843292434507]\n"
     ]
    }
   ],
   "source": [
    "for model_output in models_output_list:\n",
    "    model_name = model_output[0]\n",
    "    results = model_output[1]\n",
    "    print(f\"{model_name}: {results}\")"
   ]
  }
 ],
 "metadata": {
  "kernelspec": {
   "display_name": "Python 3",
   "language": "python",
   "name": "python3"
  },
  "language_info": {
   "codemirror_mode": {
    "name": "ipython",
    "version": 3
   },
   "file_extension": ".py",
   "mimetype": "text/x-python",
   "name": "python",
   "nbconvert_exporter": "python",
   "pygments_lexer": "ipython3",
   "version": "3.11.3"
  },
  "orig_nbformat": 4
 },
 "nbformat": 4,
 "nbformat_minor": 2
}
