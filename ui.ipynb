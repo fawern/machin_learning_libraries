{
 "cells": [
  {
   "cell_type": "code",
   "execution_count": 149,
   "metadata": {},
   "outputs": [],
   "source": [
    "import tkinter as tk\n",
    "from tkinter import filedialog\n",
    "from tkinter import messagebox\n",
    "\n",
    "def library_ui():\n",
    "    root = tk.Tk()\n",
    "    root.title(\"Machine Learnings Library\")\n",
    "\n",
    "    root.resizable(True, True)\n",
    "\n",
    "    root.geometry(\"600x400\") # Weight x Height\n",
    "    \n",
    "    def button_click():\n",
    "\n",
    "        nonlocal file_path\n",
    "\n",
    "        label.config(text=\"hello \" + entry.get())\n",
    "\n",
    "        file_path = filedialog.askopenfilename(title='Select a csv file !!!')\n",
    "\n",
    "        if file_path.split('.')[-1] == 'csv':\n",
    "            label.config(text=\"Selected file: \" + file_path)\n",
    "\n",
    "        elif file_path.split('.')[-1] != 'csv':\n",
    "            messagebox.showinfo(title='File type error', message=\"Plase select csv file\")\n",
    "            file_path = filedialog.askopenfilename(title='Select a csv file !!!')\n",
    "            \n",
    "        else:\n",
    "            messagebox.showinfo(title='Not found error', message=\"No file selected\")\n",
    "            file_path = filedialog.askopenfilename(title='Select a csv file !!!')\n",
    "\n",
    "    label = tk.Label(root, text=\"Enter your name:\")\n",
    "    label.pack(pady=10)\n",
    "\n",
    "    entry = tk.Entry(root)\n",
    "    entry.pack(pady=10)\n",
    "\n",
    "    button = tk.Button(root, text='save', command=button_click)\n",
    "    button.pack(pady=10)\n",
    "\n",
    "    root.mainloop()\n",
    "\n",
    "    return file_path"
   ]
  },
  {
   "cell_type": "code",
   "execution_count": 150,
   "metadata": {},
   "outputs": [
    {
     "data": {
      "text/plain": [
       "''"
      ]
     },
     "execution_count": 150,
     "metadata": {},
     "output_type": "execute_result"
    }
   ],
   "source": [
    "library_ui()"
   ]
  },
  {
   "cell_type": "code",
   "execution_count": 144,
   "metadata": {},
   "outputs": [
    {
     "data": {
      "text/plain": [
       "1"
      ]
     },
     "execution_count": 144,
     "metadata": {},
     "output_type": "execute_result"
    }
   ],
   "source": [
    "a = 0 \n",
    "\n",
    "def b():\n",
    "    global a\n",
    "    a+=1\n",
    "    return a\n"
   ]
  }
 ],
 "metadata": {
  "kernelspec": {
   "display_name": "base",
   "language": "python",
   "name": "python3"
  },
  "language_info": {
   "codemirror_mode": {
    "name": "ipython",
    "version": 3
   },
   "file_extension": ".py",
   "mimetype": "text/x-python",
   "name": "python",
   "nbconvert_exporter": "python",
   "pygments_lexer": "ipython3",
   "version": "3.10.9"
  }
 },
 "nbformat": 4,
 "nbformat_minor": 2
}
